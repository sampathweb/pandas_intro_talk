{
 "metadata": {
  "name": "",
  "signature": "sha256:15219f2f983b5dc793da14630a79d8bc3b419d4dbdcab67781c75e360a73c3a0"
 },
 "nbformat": 3,
 "nbformat_minor": 0,
 "worksheets": [
  {
   "cells": [
    {
     "cell_type": "code",
     "collapsed": false,
     "input": [
      "# import libaries\n",
      "import numpy as np\n",
      "import pandas as pd\n",
      "import matplotlib.pyplot as pyplt\n",
      "from IPython.display import Image\n",
      "import seaborn as sns"
     ],
     "language": "python",
     "metadata": {},
     "outputs": [],
     "prompt_number": 1
    },
    {
     "cell_type": "code",
     "collapsed": false,
     "input": [
      "# Plot in ipython notebook\n",
      "%matplotlib inline"
     ],
     "language": "python",
     "metadata": {},
     "outputs": [],
     "prompt_number": 2
    },
    {
     "cell_type": "code",
     "collapsed": false,
     "input": [
      "# Set Display Options\n",
      "pd.options.display.max_rows = 15"
     ],
     "language": "python",
     "metadata": {},
     "outputs": [],
     "prompt_number": 3
    },
    {
     "cell_type": "markdown",
     "metadata": {},
     "source": [
      "Kaggle Walmart Sales Data:\n",
      "=======================\n",
      "\n",
      "* Source: http://www.kaggle.com/c/walmart-recruiting-store-sales-forecasting/data\n",
      "* Let's take a look at the training data and try to make sense of it"
     ]
    },
    {
     "cell_type": "code",
     "collapsed": false,
     "input": [
      "stores = pd.read_csv('kaggle_walmart_data/stores.csv')\n",
      "sales = pd.read_csv('kaggle_walmart_data/train.csv')\n",
      "features = pd.read_csv('kaggle_walmart_data/features.csv')"
     ],
     "language": "python",
     "metadata": {},
     "outputs": [],
     "prompt_number": 4
    },
    {
     "cell_type": "code",
     "collapsed": false,
     "input": [
      "print('Rows of Weekly Sales: ', len(sales))"
     ],
     "language": "python",
     "metadata": {},
     "outputs": [
      {
       "output_type": "stream",
       "stream": "stdout",
       "text": [
        "Rows of Weekly Sales:  421570\n"
       ]
      }
     ],
     "prompt_number": 5
    },
    {
     "cell_type": "code",
     "collapsed": false,
     "input": [
      "sales.dtypes"
     ],
     "language": "python",
     "metadata": {},
     "outputs": [
      {
       "metadata": {},
       "output_type": "pyout",
       "prompt_number": 6,
       "text": [
        "Store             int64\n",
        "Dept              int64\n",
        "Date             object\n",
        "Weekly_Sales    float64\n",
        "IsHoliday          bool\n",
        "dtype: object"
       ]
      }
     ],
     "prompt_number": 6
    },
    {
     "cell_type": "code",
     "collapsed": false,
     "input": [
      "sales.head()"
     ],
     "language": "python",
     "metadata": {},
     "outputs": [
      {
       "html": [
        "<div style=\"max-height:1000px;max-width:1500px;overflow:auto;\">\n",
        "<table border=\"1\" class=\"dataframe\">\n",
        "  <thead>\n",
        "    <tr style=\"text-align: right;\">\n",
        "      <th></th>\n",
        "      <th>Store</th>\n",
        "      <th>Dept</th>\n",
        "      <th>Date</th>\n",
        "      <th>Weekly_Sales</th>\n",
        "      <th>IsHoliday</th>\n",
        "    </tr>\n",
        "  </thead>\n",
        "  <tbody>\n",
        "    <tr>\n",
        "      <th>0</th>\n",
        "      <td> 1</td>\n",
        "      <td> 1</td>\n",
        "      <td> 2010-02-05</td>\n",
        "      <td> 24924.50</td>\n",
        "      <td> False</td>\n",
        "    </tr>\n",
        "    <tr>\n",
        "      <th>1</th>\n",
        "      <td> 1</td>\n",
        "      <td> 1</td>\n",
        "      <td> 2010-02-12</td>\n",
        "      <td> 46039.49</td>\n",
        "      <td>  True</td>\n",
        "    </tr>\n",
        "    <tr>\n",
        "      <th>2</th>\n",
        "      <td> 1</td>\n",
        "      <td> 1</td>\n",
        "      <td> 2010-02-19</td>\n",
        "      <td> 41595.55</td>\n",
        "      <td> False</td>\n",
        "    </tr>\n",
        "    <tr>\n",
        "      <th>3</th>\n",
        "      <td> 1</td>\n",
        "      <td> 1</td>\n",
        "      <td> 2010-02-26</td>\n",
        "      <td> 19403.54</td>\n",
        "      <td> False</td>\n",
        "    </tr>\n",
        "    <tr>\n",
        "      <th>4</th>\n",
        "      <td> 1</td>\n",
        "      <td> 1</td>\n",
        "      <td> 2010-03-05</td>\n",
        "      <td> 21827.90</td>\n",
        "      <td> False</td>\n",
        "    </tr>\n",
        "  </tbody>\n",
        "</table>\n",
        "</div>"
       ],
       "metadata": {},
       "output_type": "pyout",
       "prompt_number": 7,
       "text": [
        "   Store  Dept        Date  Weekly_Sales IsHoliday\n",
        "0      1     1  2010-02-05      24924.50     False\n",
        "1      1     1  2010-02-12      46039.49      True\n",
        "2      1     1  2010-02-19      41595.55     False\n",
        "3      1     1  2010-02-26      19403.54     False\n",
        "4      1     1  2010-03-05      21827.90     False"
       ]
      }
     ],
     "prompt_number": 7
    },
    {
     "cell_type": "code",
     "collapsed": false,
     "input": [
      "sales.Date = pd.to_datetime(sales.Date)"
     ],
     "language": "python",
     "metadata": {},
     "outputs": [],
     "prompt_number": 8
    },
    {
     "cell_type": "code",
     "collapsed": false,
     "input": [
      "sales.dtypes"
     ],
     "language": "python",
     "metadata": {},
     "outputs": [
      {
       "metadata": {},
       "output_type": "pyout",
       "prompt_number": 9,
       "text": [
        "Store                    int64\n",
        "Dept                     int64\n",
        "Date            datetime64[ns]\n",
        "Weekly_Sales           float64\n",
        "IsHoliday                 bool\n",
        "dtype: object"
       ]
      }
     ],
     "prompt_number": 9
    },
    {
     "cell_type": "code",
     "collapsed": false,
     "input": [
      "def topn(group, field, n=5):\n",
      "    return group.sort_index(by=field, ascending=False)[:n]\n",
      "\n",
      "sales.groupby('Store').apply(topn, 'Weekly_Sales', 3)"
     ],
     "language": "python",
     "metadata": {},
     "outputs": [
      {
       "html": [
        "<div style=\"max-height:1000px;max-width:1500px;overflow:auto;\">\n",
        "<table border=\"1\" class=\"dataframe\">\n",
        "  <thead>\n",
        "    <tr style=\"text-align: right;\">\n",
        "      <th></th>\n",
        "      <th></th>\n",
        "      <th>Store</th>\n",
        "      <th>Dept</th>\n",
        "      <th>Date</th>\n",
        "      <th>Weekly_Sales</th>\n",
        "      <th>IsHoliday</th>\n",
        "    </tr>\n",
        "    <tr>\n",
        "      <th>Store</th>\n",
        "      <th></th>\n",
        "      <th></th>\n",
        "      <th></th>\n",
        "      <th></th>\n",
        "      <th></th>\n",
        "      <th></th>\n",
        "    </tr>\n",
        "  </thead>\n",
        "  <tbody>\n",
        "    <tr>\n",
        "      <th rowspan=\"3\" valign=\"top\">1 </th>\n",
        "      <th>7741  </th>\n",
        "      <td>  1</td>\n",
        "      <td> 72</td>\n",
        "      <td>2011-11-25</td>\n",
        "      <td> 203670.47</td>\n",
        "      <td>  True</td>\n",
        "    </tr>\n",
        "    <tr>\n",
        "      <th>7689  </th>\n",
        "      <td>  1</td>\n",
        "      <td> 72</td>\n",
        "      <td>2010-11-26</td>\n",
        "      <td> 196810.42</td>\n",
        "      <td>  True</td>\n",
        "    </tr>\n",
        "    <tr>\n",
        "      <th>9325  </th>\n",
        "      <td>  1</td>\n",
        "      <td> 92</td>\n",
        "      <td>2011-12-23</td>\n",
        "      <td> 194839.60</td>\n",
        "      <td> False</td>\n",
        "    </tr>\n",
        "    <tr>\n",
        "      <th rowspan=\"3\" valign=\"top\">2 </th>\n",
        "      <th>17896 </th>\n",
        "      <td>  2</td>\n",
        "      <td> 72</td>\n",
        "      <td>2010-11-26</td>\n",
        "      <td> 285353.53</td>\n",
        "      <td>  True</td>\n",
        "    </tr>\n",
        "    <tr>\n",
        "      <th>11148 </th>\n",
        "      <td>  2</td>\n",
        "      <td>  7</td>\n",
        "      <td>2010-12-24</td>\n",
        "      <td> 264837.42</td>\n",
        "      <td> False</td>\n",
        "    </tr>\n",
        "    <tr>\n",
        "      <th>17948 </th>\n",
        "      <td>  2</td>\n",
        "      <td> 72</td>\n",
        "      <td>2011-11-25</td>\n",
        "      <td> 263558.03</td>\n",
        "      <td>  True</td>\n",
        "    </tr>\n",
        "    <tr>\n",
        "      <th>3 </th>\n",
        "      <th>25459 </th>\n",
        "      <td>  3</td>\n",
        "      <td> 38</td>\n",
        "      <td>2010-02-05</td>\n",
        "      <td> 155897.94</td>\n",
        "      <td> False</td>\n",
        "    </tr>\n",
        "    <tr>\n",
        "      <th>...</th>\n",
        "      <th>...</th>\n",
        "      <td>...</td>\n",
        "      <td>...</td>\n",
        "      <td>...</td>\n",
        "      <td>...</td>\n",
        "      <td>...</td>\n",
        "    </tr>\n",
        "    <tr>\n",
        "      <th>43</th>\n",
        "      <th>403842</th>\n",
        "      <td> 43</td>\n",
        "      <td> 92</td>\n",
        "      <td>2011-09-09</td>\n",
        "      <td> 101792.33</td>\n",
        "      <td>  True</td>\n",
        "    </tr>\n",
        "    <tr>\n",
        "      <th rowspan=\"3\" valign=\"top\">44</th>\n",
        "      <th>408236</th>\n",
        "      <td> 44</td>\n",
        "      <td> 38</td>\n",
        "      <td>2012-10-26</td>\n",
        "      <td>  66629.98</td>\n",
        "      <td> False</td>\n",
        "    </tr>\n",
        "    <tr>\n",
        "      <th>408232</th>\n",
        "      <td> 44</td>\n",
        "      <td> 38</td>\n",
        "      <td>2012-09-28</td>\n",
        "      <td>  65599.95</td>\n",
        "      <td> False</td>\n",
        "    </tr>\n",
        "    <tr>\n",
        "      <th>408204</th>\n",
        "      <td> 44</td>\n",
        "      <td> 38</td>\n",
        "      <td>2012-03-16</td>\n",
        "      <td>  64719.71</td>\n",
        "      <td> False</td>\n",
        "    </tr>\n",
        "    <tr>\n",
        "      <th rowspan=\"3\" valign=\"top\">45</th>\n",
        "      <th>419193</th>\n",
        "      <td> 45</td>\n",
        "      <td> 72</td>\n",
        "      <td>2010-11-26</td>\n",
        "      <td> 240758.86</td>\n",
        "      <td>  True</td>\n",
        "    </tr>\n",
        "    <tr>\n",
        "      <th>419245</th>\n",
        "      <td> 45</td>\n",
        "      <td> 72</td>\n",
        "      <td>2011-11-25</td>\n",
        "      <td> 198041.11</td>\n",
        "      <td>  True</td>\n",
        "    </tr>\n",
        "    <tr>\n",
        "      <th>412837</th>\n",
        "      <td> 45</td>\n",
        "      <td>  7</td>\n",
        "      <td>2010-12-24</td>\n",
        "      <td> 166757.11</td>\n",
        "      <td> False</td>\n",
        "    </tr>\n",
        "  </tbody>\n",
        "</table>\n",
        "<p>135 rows \u00d7 5 columns</p>\n",
        "</div>"
       ],
       "metadata": {},
       "output_type": "pyout",
       "prompt_number": 10,
       "text": [
        "              Store  Dept       Date  Weekly_Sales IsHoliday\n",
        "Store                                                       \n",
        "1     7741        1    72 2011-11-25     203670.47      True\n",
        "      7689        1    72 2010-11-26     196810.42      True\n",
        "      9325        1    92 2011-12-23     194839.60     False\n",
        "2     17896       2    72 2010-11-26     285353.53      True\n",
        "      11148       2     7 2010-12-24     264837.42     False\n",
        "      17948       2    72 2011-11-25     263558.03      True\n",
        "3     25459       3    38 2010-02-05     155897.94     False\n",
        "...             ...   ...        ...           ...       ...\n",
        "43    403842     43    92 2011-09-09     101792.33      True\n",
        "44    408236     44    38 2012-10-26      66629.98     False\n",
        "      408232     44    38 2012-09-28      65599.95     False\n",
        "      408204     44    38 2012-03-16      64719.71     False\n",
        "45    419193     45    72 2010-11-26     240758.86      True\n",
        "      419245     45    72 2011-11-25     198041.11      True\n",
        "      412837     45     7 2010-12-24     166757.11     False\n",
        "\n",
        "[135 rows x 5 columns]"
       ]
      }
     ],
     "prompt_number": 10
    },
    {
     "cell_type": "code",
     "collapsed": false,
     "input": [
      "sales_monthly_store1 = sales[sales.Store == 1].set_index('Date').sort_index().resample('M', how='sum')"
     ],
     "language": "python",
     "metadata": {},
     "outputs": [],
     "prompt_number": 14
    },
    {
     "cell_type": "code",
     "collapsed": false,
     "input": [
      "sales_monthly.Weekly_Sales.plot()"
     ],
     "language": "python",
     "metadata": {},
     "outputs": [
      {
       "metadata": {},
       "output_type": "pyout",
       "prompt_number": 16,
       "text": [
        "<matplotlib.axes.AxesSubplot at 0x10ef94710>"
       ]
      },
      {
       "metadata": {},
       "output_type": "display_data",
       "png": "[encoded data removed]",
       "text": [
        "<matplotlib.figure.Figure at 0x112bfdd68>"
       ]
      }
     ],
     "prompt_number": 16
    },
    {
     "cell_type": "code",
     "collapsed": false,
     "input": [],
     "language": "python",
     "metadata": {},
     "outputs": []
    }
   ],
   "metadata": {}
  }
 ]
}